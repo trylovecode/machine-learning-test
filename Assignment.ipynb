{
 "cells": [
  {
   "cell_type": "markdown",
   "metadata": {},
   "source": [
    "## Assignment-05"
   ]
  },
  {
   "cell_type": "markdown",
   "metadata": {},
   "source": [
    "同学们，今天我们的学习了基本的机器学习概念，相比你已经对机器学习的这些方法有一个基本的认识了。值得说明的是，机器学习不仅仅是一系列方法，更重要的是一种思维体系，即：依据以往的、现有的数据，构建某种方法来解决未见过的问题。而且决策树，贝叶斯只是实现这个目标的一个方法，包括之后的神经网络。很有可能有一天，神经网络也会被淘汰，但是重要的是我们要理解机器学习的目标，就是尽可能的自动化解决未知的问题。"
   ]
  },
  {
   "cell_type": "markdown",
   "metadata": {},
   "source": [
    "## Part-1 Programming Review 编程回顾"
   ]
  },
  {
   "cell_type": "markdown",
   "metadata": {},
   "source": [
    "#### 1. Re-code the Linear-Regression Model using scikit-learning(10 points)"
   ]
  },
  {
   "cell_type": "code",
   "execution_count": 54,
   "metadata": {},
   "outputs": [],
   "source": [
    "import numpy as np\n",
    "import matplotlib.pyplot as plt\n",
    "import random\n",
    "import math\n",
    "import pandas as pd\n",
    "from sklearn.linear_model import LinearRegression"
   ]
  },
  {
   "cell_type": "code",
   "execution_count": 5,
   "metadata": {},
   "outputs": [
    {
     "name": "stdout",
     "output_type": "stream",
     "text": [
      "[[0.75622512 0.89637878]\n",
      " [0.24973237 0.66986346]\n",
      " [0.94706533 0.50132963]\n",
      " [0.28787912 0.34447586]\n",
      " [0.86015847 0.77580181]\n",
      " [0.82611801 0.63013611]\n",
      " [0.78925181 0.4526929 ]\n",
      " [0.53798554 0.31557071]\n",
      " [0.03630276 0.21239318]\n",
      " [0.84389867 0.75624863]\n",
      " [0.56007258 0.25636752]\n",
      " [0.76689371 0.5095213 ]\n",
      " [0.83354466 0.20294651]\n",
      " [0.24768046 0.6485293 ]\n",
      " [0.17071624 0.64691441]\n",
      " [0.36354914 0.84390335]\n",
      " [0.13572452 0.4054628 ]\n",
      " [0.57665636 0.15122573]\n",
      " [0.83465259 0.26184697]\n",
      " [0.18601128 0.61084623]]\n"
     ]
    }
   ],
   "source": [
    "# 随机生成20个数据，维度为2\n",
    "random_data = np.random.random((20, 2))\n",
    "print(random_data)\n",
    "X = random_data[:, 0]\n",
    "y = random_data[:, 1]"
   ]
  },
  {
   "cell_type": "code",
   "execution_count": 7,
   "metadata": {},
   "outputs": [
    {
     "data": {
      "text/plain": [
       "<matplotlib.collections.PathCollection at 0x112eeedd8>"
      ]
     },
     "execution_count": 7,
     "metadata": {},
     "output_type": "execute_result"
    },
    {
     "data": {
      "image/png": "[encoded data removed]",
      "text/plain": [
       "<Figure size 432x288 with 1 Axes>"
      ]
     },
     "metadata": {},
     "output_type": "display_data"
    }
   ],
   "source": [
    "def assuming_function(x):\n",
    "    return 13.4*x + 5 + random.randint(-5, 5)\n",
    "\n",
    "y = [assuming_function(x) for x in X]\n",
    "plt.scatter(X, y)"
   ]
  },
  {
   "cell_type": "code",
   "execution_count": 14,
   "metadata": {},
   "outputs": [
    {
     "name": "stdout",
     "output_type": "stream",
     "text": [
      "k: 11.027955522937694 b: 6.982104122834076\n"
     ]
    }
   ],
   "source": [
    "y = np.array(y)\n",
    "reg = LinearRegression().fit(X.reshape(-1, 1), y)\n",
    "print(\"k:\",float(reg.coef_), \"b:\",reg.intercept_)\n",
    "\n",
    "def f(x):\n",
    "    return reg.coef_ * x + reg.intercept_"
   ]
  },
  {
   "cell_type": "code",
   "execution_count": 15,
   "metadata": {},
   "outputs": [
    {
     "data": {
      "text/plain": [
       "[<matplotlib.lines.Line2D at 0x1a1b62b7f0>]"
      ]
     },
     "execution_count": 15,
     "metadata": {},
     "output_type": "execute_result"
    },
    {
     "data": {
      "image/png": "[encoded data removed]",
      "text/plain": [
       "<Figure size 432x288 with 1 Axes>"
      ]
     },
     "metadata": {},
     "output_type": "display_data"
    }
   ],
   "source": [
    "plt.scatter(X, y)\n",
    "plt.plot(X, f(X), color='red')"
   ]
  },
  {
   "cell_type": "markdown",
   "metadata": {},
   "source": [
    "#### 2. Complete the unfinished KNN Model using pure python to solve the previous Line-Regression problem. (8 points)"
   ]
  },
  {
   "cell_type": "code",
   "execution_count": 16,
   "metadata": {},
   "outputs": [],
   "source": [
    "from collections import Counter\n",
    "from scipy.spatial.distance import cosine"
   ]
  },
  {
   "cell_type": "code",
   "execution_count": 17,
   "metadata": {},
   "outputs": [],
   "source": [
    "random_data = np.random.random((20, 2))\n",
    "X = random_data[:, 0]\n",
    "y = random_data[:, 1]\n",
    "\n",
    "## y大于0.4为1，小于0.4为0\n",
    "y = (y >= 0.4)+0"
   ]
  },
  {
   "cell_type": "code",
   "execution_count": 25,
   "metadata": {},
   "outputs": [
    {
     "data": {
      "text/plain": [
       "0"
      ]
     },
     "execution_count": 25,
     "metadata": {},
     "output_type": "execute_result"
    }
   ],
   "source": [
    "def model(X, y):\n",
    "    return [(Xi, yi) for Xi, yi in zip(X, y)]\n",
    "# print(model(X, y))\n",
    "def distance(x1, x2):\n",
    "    return cosine(x1, x2)\n",
    "\n",
    "def predict(x, k=5):\n",
    "    # 计算所有点之间的cosine距离并进行排序，取前5个\n",
    "    most_similars = sorted(model(X, y), key = lambda xi: distance(xi[0], x))[:k]\n",
    "    # print(most_similars)\n",
    "    #对点进行分类\n",
    "    target_list = [x[1] for x in most_similars]\n",
    "   # print(target_list)\n",
    "    label = Counter(target_list).most_common()[0][0]\n",
    "    \n",
    "    return label\n",
    "\n",
    "predict(0.3, 3)"
   ]
  },
  {
   "cell_type": "markdown",
   "metadata": {},
   "source": [
    "#### 3. Re-code the Decision Tree, which could sort the features by salience. (12 points)"
   ]
  },
  {
   "cell_type": "code",
   "execution_count": 64,
   "metadata": {},
   "outputs": [
    {
     "name": "stdout",
     "output_type": "stream",
     "text": [
      "-0.0 \n",
      " 1.0\n"
     ]
    }
   ],
   "source": [
    "def entropy(elements):\n",
    "#     print(elements)\n",
    "    counter = Counter(elements)\n",
    "#     print(counter)\n",
    "    probs = [counter[c] / len(elements) for c in set(elements)]\n",
    "#     print(probs)\n",
    "    return -sum(p * np.log2(p) for p in probs)\n",
    "\n",
    "print(entropy([0,0,0,0]),'\\n',entropy([1,0]))\n"
   ]
  },
  {
   "cell_type": "code",
   "execution_count": 65,
   "metadata": {},
   "outputs": [
    {
     "data": {
      "text/plain": [
       "0.6935361388961918"
      ]
     },
     "execution_count": 65,
     "metadata": {},
     "output_type": "execute_result"
    }
   ],
   "source": [
    "5/7 * (-2/5*math.log(2/5,2) - 3/5*math.log(3/5,2)) - 2/7*math.log(1,2)"
   ]
  },
  {
   "cell_type": "code",
   "execution_count": 66,
   "metadata": {},
   "outputs": [
    {
     "data": {
      "text/plain": [
       "0.8571428571428571"
      ]
     },
     "execution_count": 66,
     "metadata": {},
     "output_type": "execute_result"
    }
   ],
   "source": [
    "3/7 * (-2/3*math.log(2/3,2) - 1/3*math.log(1/3,2)) + 4/7*(-3/4*math.log(3/4,2) - 1/4*math.log(1/4,2))"
   ]
  },
  {
   "cell_type": "code",
   "execution_count": 67,
   "metadata": {},
   "outputs": [
    {
     "name": "stdout",
     "output_type": "stream",
     "text": [
      "  gender income  family_number  bought\n",
      "0      F    +10              1       1\n",
      "1      F    -10              1       1\n",
      "2      F    +10              2       1\n",
      "3      F    +10              1       0\n",
      "4      M    +10              1       0\n",
      "5      M    +10              1       0\n",
      "6      M    -10              2       1\n"
     ]
    }
   ],
   "source": [
    "mock_data = {\n",
    "    'gender':['F', 'F', 'F', 'F', 'M', 'M', 'M'],\n",
    "    'income': ['+10', '-10', '+10', '+10', '+10', '+10', '-10'],\n",
    "    'family_number': [1, 1, 2, 1, 1, 1, 2],\n",
    "    'bought': [1, 1, 1, 0, 0, 0, 1],\n",
    "}\n",
    "\n",
    "dataset = pd.DataFrame.from_dict(mock_data)\n",
    "print(dataset)"
   ]
  },
  {
   "cell_type": "code",
   "execution_count": 68,
   "metadata": {},
   "outputs": [
    {
     "name": "stdout",
     "output_type": "stream",
     "text": [
      "[1, 1, 0, 0, 0] [1, 1]\n",
      "0.6935361388961918\n"
     ]
    }
   ],
   "source": [
    "# family number为1的五个里面，前两个会买，后三个不买\n",
    "sub_split_1 = dataset[dataset['family_number'] == 1]['bought'].tolist()\n",
    "sub_split_2 = dataset[dataset['family_number'] != 1]['bought'].tolist()\n",
    "print(sub_split_1, sub_split_2)\n",
    "entropy1 = 5/7*entropy(sub_split_1) + 2/7*entropy(sub_split_2)\n",
    "print(entropy1)"
   ]
  },
  {
   "cell_type": "code",
   "execution_count": 69,
   "metadata": {},
   "outputs": [
    {
     "name": "stdout",
     "output_type": "stream",
     "text": [
      "[0, 0, 1] [1, 1, 1, 0]\n",
      "0.8571428571428571\n"
     ]
    }
   ],
   "source": [
    "# gender为M的3个里面，前两个不买，后一个买\n",
    "_sub_split_1 = dataset[dataset['gender'] != 'F']['bought'].tolist()\n",
    "_sub_split_2 = dataset[dataset['gender'] != 'M']['bought'].tolist()\n",
    "print(_sub_split_1, _sub_split_2)\n",
    "entropy2 = 3/7 * entropy(_sub_split_1) + 4/7*entropy(_sub_split_2)\n",
    "print(entropy2)"
   ]
  },
  {
   "cell_type": "code",
   "execution_count": 75,
   "metadata": {},
   "outputs": [
    {
     "name": "stdout",
     "output_type": "stream",
     "text": [
      "income\n",
      "{'+10', '-10'}\n",
      "sub_split_1  [1, 1, 0, 0, 0]\n",
      "entropy_1  0.9709505944546686\n",
      "sub_split_2  [1, 1]\n",
      "entropy_2  -0.0\n",
      "entropy_v  0.6935361388961918\n",
      "sub_split_1  [1, 1, 0, 0, 0]\n",
      "entropy_1  -0.0\n",
      "sub_split_2  [1, 1]\n",
      "entropy_2  0.9709505944546686\n",
      "entropy_v  0.6935361388961918\n",
      "gender\n",
      "{'F', 'M'}\n",
      "sub_split_1  [1, 1, 0, 0, 0]\n",
      "entropy_1  0.8112781244591328\n",
      "sub_split_2  [1, 1]\n",
      "entropy_2  0.9182958340544896\n",
      "entropy_v  0.8571428571428571\n",
      "sub_split_1  [1, 1, 0, 0, 0]\n",
      "entropy_1  0.9182958340544896\n",
      "sub_split_2  [1, 1]\n",
      "entropy_2  0.8112781244591328\n",
      "entropy_v  0.8571428571428571\n",
      "family_number\n",
      "{1, 2}\n",
      "sub_split_1  [1, 1, 0, 0, 0]\n",
      "entropy_1  0.9709505944546686\n",
      "sub_split_2  [1, 1]\n",
      "entropy_2  -0.0\n",
      "entropy_v  0.6935361388961918\n",
      "sub_split_1  [1, 1, 0, 0, 0]\n",
      "entropy_1  -0.0\n",
      "sub_split_2  [1, 1]\n",
      "entropy_2  0.9709505944546686\n",
      "entropy_v  0.6935361388961918\n",
      "spliter is: ('family_number', 2)\n",
      "the min entropy is: 0.6935361388961918\n"
     ]
    },
    {
     "data": {
      "text/plain": [
       "('family_number', 2)"
      ]
     },
     "execution_count": 75,
     "metadata": {},
     "output_type": "execute_result"
    }
   ],
   "source": [
    "def find_the_min_spilter(training_data: pd.DataFrame, target: str) -> str:\n",
    "    # 把target（’bought‘）去掉\n",
    "    x_fields = set(training_data.columns.tolist()) - {target}\n",
    "#     print(x_fields)\n",
    "    \n",
    "    spliter = None\n",
    "    min_entropy = float('inf')\n",
    "    \n",
    "    for f in x_fields:\n",
    "        print(f)\n",
    "        values = set(training_data[f])\n",
    "        print(values)\n",
    "        for v in values:\n",
    "            sub_spliter_1 = training_data[training_data[f] == v][target].tolist()\n",
    "            print('sub_split_1 ',sub_split_1)\n",
    "            entropy_1 = entropy(sub_spliter_1)\n",
    "            print('entropy_1 ',entropy_1)\n",
    "            sub_spliter_2 = training_data[training_data[f] != v][target].tolist()\n",
    "            print('sub_split_2 ',sub_split_2)\n",
    "            entropy_2 = entropy(sub_spliter_2)\n",
    "            print('entropy_2 ',entropy_2)\n",
    "            a = len(sub_spliter_1)\n",
    "            b = len(sub_spliter_2)\n",
    "            entropy_v =  a / (a+b) * entropy_1 + b / (a+b) * entropy_2  # 按比例加和 \n",
    "            print('entropy_v ',entropy_v)\n",
    "            \n",
    "            if entropy_v <= min_entropy:\n",
    "                min_entropy = entropy_v\n",
    "                spliter = (f, v)\n",
    "    \n",
    "    print('spliter is: {}'.format(spliter))\n",
    "    print('the min entropy is: {}'.format(min_entropy))\n",
    "    \n",
    "    return spliter\n",
    "\n",
    "find_the_min_spilter(dataset, 'bought')"
   ]
  },
  {
   "cell_type": "code",
   "execution_count": 76,
   "metadata": {},
   "outputs": [
    {
     "data": {
      "text/html": [
       "<div>\n",
       "<style scoped>\n",
       "    .dataframe tbody tr th:only-of-type {\n",
       "        vertical-align: middle;\n",
       "    }\n",
       "\n",
       "    .dataframe tbody tr th {\n",
       "        vertical-align: top;\n",
       "    }\n",
       "\n",
       "    .dataframe thead th {\n",
       "        text-align: right;\n",
       "    }\n",
       "</style>\n",
       "<table border=\"1\" class=\"dataframe\">\n",
       "  <thead>\n",
       "    <tr style=\"text-align: right;\">\n",
       "      <th></th>\n",
       "      <th>gender</th>\n",
       "      <th>income</th>\n",
       "      <th>family_number</th>\n",
       "      <th>bought</th>\n",
       "    </tr>\n",
       "  </thead>\n",
       "  <tbody>\n",
       "    <tr>\n",
       "      <th>2</th>\n",
       "      <td>F</td>\n",
       "      <td>+10</td>\n",
       "      <td>2</td>\n",
       "      <td>1</td>\n",
       "    </tr>\n",
       "    <tr>\n",
       "      <th>6</th>\n",
       "      <td>M</td>\n",
       "      <td>-10</td>\n",
       "      <td>2</td>\n",
       "      <td>1</td>\n",
       "    </tr>\n",
       "  </tbody>\n",
       "</table>\n",
       "</div>"
      ],
      "text/plain": [
       "  gender income  family_number  bought\n",
       "2      F    +10              2       1\n",
       "6      M    -10              2       1"
      ]
     },
     "execution_count": 76,
     "metadata": {},
     "output_type": "execute_result"
    }
   ],
   "source": [
    "dataset[dataset['family_number'] == 2]"
   ]
  },
  {
   "cell_type": "code",
   "execution_count": 77,
   "metadata": {},
   "outputs": [
    {
     "data": {
      "text/html": [
       "<div>\n",
       "<style scoped>\n",
       "    .dataframe tbody tr th:only-of-type {\n",
       "        vertical-align: middle;\n",
       "    }\n",
       "\n",
       "    .dataframe tbody tr th {\n",
       "        vertical-align: top;\n",
       "    }\n",
       "\n",
       "    .dataframe thead th {\n",
       "        text-align: right;\n",
       "    }\n",
       "</style>\n",
       "<table border=\"1\" class=\"dataframe\">\n",
       "  <thead>\n",
       "    <tr style=\"text-align: right;\">\n",
       "      <th></th>\n",
       "      <th>gender</th>\n",
       "      <th>income</th>\n",
       "      <th>family_number</th>\n",
       "      <th>bought</th>\n",
       "    </tr>\n",
       "  </thead>\n",
       "  <tbody>\n",
       "    <tr>\n",
       "      <th>0</th>\n",
       "      <td>F</td>\n",
       "      <td>+10</td>\n",
       "      <td>1</td>\n",
       "      <td>1</td>\n",
       "    </tr>\n",
       "    <tr>\n",
       "      <th>1</th>\n",
       "      <td>F</td>\n",
       "      <td>-10</td>\n",
       "      <td>1</td>\n",
       "      <td>1</td>\n",
       "    </tr>\n",
       "    <tr>\n",
       "      <th>3</th>\n",
       "      <td>F</td>\n",
       "      <td>+10</td>\n",
       "      <td>1</td>\n",
       "      <td>0</td>\n",
       "    </tr>\n",
       "    <tr>\n",
       "      <th>4</th>\n",
       "      <td>M</td>\n",
       "      <td>+10</td>\n",
       "      <td>1</td>\n",
       "      <td>0</td>\n",
       "    </tr>\n",
       "    <tr>\n",
       "      <th>5</th>\n",
       "      <td>M</td>\n",
       "      <td>+10</td>\n",
       "      <td>1</td>\n",
       "      <td>0</td>\n",
       "    </tr>\n",
       "  </tbody>\n",
       "</table>\n",
       "</div>"
      ],
      "text/plain": [
       "  gender income  family_number  bought\n",
       "0      F    +10              1       1\n",
       "1      F    -10              1       1\n",
       "3      F    +10              1       0\n",
       "4      M    +10              1       0\n",
       "5      M    +10              1       0"
      ]
     },
     "execution_count": 77,
     "metadata": {},
     "output_type": "execute_result"
    }
   ],
   "source": [
    "dataset[dataset['family_number'] == 1]"
   ]
  },
  {
   "cell_type": "code",
   "execution_count": 78,
   "metadata": {},
   "outputs": [
    {
     "name": "stdout",
     "output_type": "stream",
     "text": [
      "income\n",
      "{'+10', '-10'}\n",
      "sub_split_1  [1, 1, 0, 0, 0]\n",
      "entropy_1  0.8112781244591328\n",
      "sub_split_2  [1, 1]\n",
      "entropy_2  -0.0\n",
      "entropy_v  0.6490224995673063\n",
      "sub_split_1  [1, 1, 0, 0, 0]\n",
      "entropy_1  -0.0\n",
      "sub_split_2  [1, 1]\n",
      "entropy_2  0.8112781244591328\n",
      "entropy_v  0.6490224995673063\n",
      "gender\n",
      "{'F', 'M'}\n",
      "sub_split_1  [1, 1, 0, 0, 0]\n",
      "entropy_1  0.9182958340544896\n",
      "sub_split_2  [1, 1]\n",
      "entropy_2  -0.0\n",
      "entropy_v  0.5509775004326937\n",
      "sub_split_1  [1, 1, 0, 0, 0]\n",
      "entropy_1  -0.0\n",
      "sub_split_2  [1, 1]\n",
      "entropy_2  0.9182958340544896\n",
      "entropy_v  0.5509775004326937\n",
      "family_number\n",
      "{1}\n",
      "sub_split_1  [1, 1, 0, 0, 0]\n",
      "entropy_1  0.9709505944546686\n",
      "sub_split_2  [1, 1]\n",
      "entropy_2  0\n",
      "entropy_v  0.9709505944546686\n",
      "spliter is: ('gender', 'M')\n",
      "the min entropy is: 0.5509775004326937\n"
     ]
    },
    {
     "data": {
      "text/plain": [
       "('gender', 'M')"
      ]
     },
     "execution_count": 78,
     "metadata": {},
     "output_type": "execute_result"
    }
   ],
   "source": [
    "find_the_min_spilter(dataset[dataset['family_number'] == 1], 'bought')"
   ]
  },
  {
   "cell_type": "markdown",
   "metadata": {},
   "source": [
    "## Part-2 Question and Answer 问答"
   ]
  },
  {
   "cell_type": "markdown",
   "metadata": {},
   "source": [
    "#### 1. What's the *model*? why  all the models are wrong, but some are useful? (5 points) "
   ]
  },
  {
   "cell_type": "markdown",
   "metadata": {},
   "source": [
    "Ans: 模型是指的解决现实生活问题的一些模型。由于理想状况，数据获取，数据准确率等多方面因素的影响，模型不可能完全正确的发展，知识对问题的尝试性解释。但是有一些模型可以解释一些规律性的，在误差范围内的东西，所以是有用的。"
   ]
  },
  {
   "cell_type": "markdown",
   "metadata": {},
   "source": [
    "#### 2. What's the underfitting and overfitting? List the reasons that could make model overfitting or underfitting. (10 points)"
   ]
  },
  {
   "cell_type": "markdown",
   "metadata": {},
   "source": [
    "Ans:欠拟合问题，根本的原因是特征维度过少，导致拟合的函数无法满足训练集，误差较大。\n",
    "\n",
    "    欠拟合问题可以通过增加特征维度来解决。\n",
    "\n",
    "    过拟合问题，根本的原因则是特征维度过多，导致拟合的函数完美的经过训练集，但是对新数据的预测结果则较差。\n",
    "\n",
    "    解决过拟合问题，则有2个途径：\n",
    "\n",
    "    减少特征维度; 可以人工选择保留的特征，或者模型选择算法\n",
    "    正则化; 保留所有的特征，通过降低参数θ的值，来影响模型"
   ]
  },
  {
   "cell_type": "markdown",
   "metadata": {},
   "source": [
    "#### 3. What's the precision, recall, AUC, F1, F2score. What are they mainly target on? (12')"
   ]
  },
  {
   "cell_type": "markdown",
   "metadata": {},
   "source": [
    "Ans: 这些都是机器学习的评价指标。\n",
    "     精确率（precision） 描述的是在所有预测出来的正例中有多少是真的正例。召回率（recall），描述的是所有正例可以发现多少，在所有实际为正例的样本中，被预测为正例的样本比例。AUC值是一个概率值，当你随机挑选一个正样本以及一个负样本，当前的分类算法根据计算得到的score值将这个正样本排在负样本前面的概率就是AUC值。F1 F2score值是精确率和召回率的调和均值。"
   ]
  },
  {
   "cell_type": "markdown",
   "metadata": {},
   "source": [
    "#### 4. Based on our course and yourself mind, what's the machine learning?  (8')"
   ]
  },
  {
   "cell_type": "markdown",
   "metadata": {},
   "source": [
    "Ans: 机器学习是一种数据分析技术，让计算机执行人和动物与生俱来的活动：从经验中学习。机器学习算法使用计算方法直接从数据中“学习”信息，而不依赖于预定方程模型。当可用于学习的样本数量增加时，这些算法可自适应提高性能。"
   ]
  },
  {
   "cell_type": "markdown",
   "metadata": {},
   "source": [
    "#### 5. \"正确定义了机器学习模型的评价标准(evaluation)， 问题基本上就已经解决一半\". 这句话是否正确？你是怎么看待的？ (8‘)"
   ]
  },
  {
   "cell_type": "markdown",
   "metadata": {},
   "source": [
    "Ans: 有一定的正确性。评价标准是用来评价机器学习之后得到结果的一些参考指标，会根据应用需求的不同而变化，没有绝对的正确。而在机器学习中遇到的模型，参数，环境等问题也值得我们的重视，并加以解决。"
   ]
  },
  {
   "cell_type": "markdown",
   "metadata": {},
   "source": [
    "## Part-03 Programming Practice 编程练习"
   ]
  },
  {
   "cell_type": "markdown",
   "metadata": {},
   "source": [
    "1. In our course and previous practice, we complete some importance components of Decision Tree. In this problem, you need to build a **completed** Decision Tree Model. You show finish a `predicate()` function, which accepts three parameters **<gender, income, family_number>**, and outputs the predicated 'bought': 1 or 0.  (20 points)\n",
    "\n",
    "    给一个样本要进行预测"
   ]
  },
  {
   "cell_type": "code",
   "execution_count": 88,
   "metadata": {},
   "outputs": [],
   "source": [
    "from sklearn.feature_extraction import DictVectorizer\n",
    "from sklearn import preprocessing\n",
    "from sklearn import tree\n",
    "import csv"
   ]
  },
  {
   "cell_type": "code",
   "execution_count": 89,
   "metadata": {},
   "outputs": [
    {
     "name": "stdout",
     "output_type": "stream",
     "text": [
      "  gender income  family_number  bought\n",
      "0      F   1000              1       1\n",
      "1      F   2000              1       1\n",
      "2      F   3000              2       1\n",
      "3      F   4000              1       0\n",
      "4      M   5000              1       0\n",
      "5      M   6000              1       0\n",
      "6      M   7000              2       1\n",
      "7      F   8000              2       1\n"
     ]
    }
   ],
   "source": [
    "data = {\n",
    "    'gender':['F', 'F', 'F', 'F', 'M', 'M', 'M', 'F'],\n",
    "    'income': ['1000', '2000', '3000', '4000', '5000', '6000', '7000', '8000'],\n",
    "    'family_number': [1, 1, 2, 1, 1, 1, 2, 2],\n",
    "    'bought': [1, 1, 1, 0, 0, 0, 1, 1],\n",
    "}\n",
    "\n",
    "dataset1 = pd.DataFrame.from_dict(data)\n",
    "print(dataset1)\n",
    "dataset1.to_csv(\"test.csv\")"
   ]
  },
  {
   "cell_type": "code",
   "execution_count": 92,
   "metadata": {},
   "outputs": [
    {
     "name": "stdout",
     "output_type": "stream",
     "text": [
      "[{'gender': 'F', 'income': '1000', 'family_number': '1'}, {'gender': 'F', 'income': '2000', 'family_number': '1'}, {'gender': 'F', 'income': '3000', 'family_number': '2'}, {'gender': 'F', 'income': '4000', 'family_number': '1'}, {'gender': 'M', 'income': '5000', 'family_number': '1'}, {'gender': 'M', 'income': '6000', 'family_number': '1'}, {'gender': 'M', 'income': '7000', 'family_number': '2'}, {'gender': 'F', 'income': '8000', 'family_number': '2'}] \n",
      "\n",
      "['1', '1', '1', '0', '0', '0', '1', '1']\n"
     ]
    }
   ],
   "source": [
    "data_file = open(\"test.csv\", \"r\")\n",
    "reader = csv.reader(data_file)\n",
    "headers = next(reader)\n",
    "\n",
    "feature_list = []\n",
    "label_list = []\n",
    "\n",
    "for row in reader:\n",
    "    label_list.append(row[-1])\n",
    "    row_dict = {}\n",
    "    for i in range(1, len(row) -1):\n",
    "        row_dict[ headers[i] ] = row[i]\n",
    "    feature_list.append(row_dict)\n",
    "data_file.close()\n",
    "print(feature_list,'\\n')\n",
    "print(label_list)"
   ]
  },
  {
   "cell_type": "code",
   "execution_count": 95,
   "metadata": {},
   "outputs": [
    {
     "name": "stdout",
     "output_type": "stream",
     "text": [
      "dummy_x: [[1. 0. 1. 0. 1. 0. 0. 0. 0. 0. 0. 0.]\n",
      " [1. 0. 1. 0. 0. 1. 0. 0. 0. 0. 0. 0.]\n",
      " [0. 1. 1. 0. 0. 0. 1. 0. 0. 0. 0. 0.]\n",
      " [1. 0. 1. 0. 0. 0. 0. 1. 0. 0. 0. 0.]\n",
      " [1. 0. 0. 1. 0. 0. 0. 0. 1. 0. 0. 0.]\n",
      " [1. 0. 0. 1. 0. 0. 0. 0. 0. 1. 0. 0.]\n",
      " [0. 1. 0. 1. 0. 0. 0. 0. 0. 0. 1. 0.]\n",
      " [0. 1. 1. 0. 0. 0. 0. 0. 0. 0. 0. 1.]]\n",
      "vec.get_feature_names() ['family_number=1', 'family_number=2', 'gender=F', 'gender=M', 'income=1000', 'income=2000', 'income=3000', 'income=4000', 'income=5000', 'income=6000', 'income=7000', 'income=8000']\n"
     ]
    }
   ],
   "source": [
    "# 向量化x, y\n",
    "vec = DictVectorizer()\n",
    "dummy_x = vec.fit_transform(feature_list).toarray()\n",
    "print(\"dummy_x:\", dummy_x)\n",
    "print(\"vec.get_feature_names()\", vec.get_feature_names())\n",
    "\n",
    "lb = preprocessing.LabelBinarizer()\n",
    "dummy_y = lb.fit_transform(label_list)"
   ]
  },
  {
   "cell_type": "code",
   "execution_count": 100,
   "metadata": {},
   "outputs": [
    {
     "name": "stdout",
     "output_type": "stream",
     "text": [
      "clf:  DecisionTreeClassifier(class_weight=None, criterion='entropy', max_depth=None,\n",
      "            max_features=None, max_leaf_nodes=None,\n",
      "            min_impurity_decrease=0.0, min_impurity_split=None,\n",
      "            min_samples_leaf=1, min_samples_split=2,\n",
      "            min_weight_fraction_leaf=0.0, presort=False, random_state=None,\n",
      "            splitter='best')\n"
     ]
    }
   ],
   "source": [
    "# 构造决策树\n",
    "clf = tree.DecisionTreeClassifier(criterion='entropy')\n",
    "clf.fit(dummy_x, dummy_y)\n",
    "print(\"clf: \", clf)"
   ]
  },
  {
   "cell_type": "code",
   "execution_count": 143,
   "metadata": {},
   "outputs": [
    {
     "name": "stdout",
     "output_type": "stream",
     "text": [
      "[1, 0, 0, 1, 0, 0, 0, 0, 0, 0, 1, 0]\n",
      "no bought\n"
     ]
    }
   ],
   "source": [
    "# 测试数据\n",
    "def predicate(a, b, c):\n",
    "    vec_list = [0]*12\n",
    "\n",
    "    if c == 1:\n",
    "        vec_list[0] = 1\n",
    "    elif c == 2:\n",
    "        vec_list[1] = 1\n",
    "        \n",
    "    if a == 'F':\n",
    "        vec_list[2] = 1\n",
    "    elif a == 'M':\n",
    "        vec_list[3] = 1\n",
    "        \n",
    "    vec_list[int(b/1000 + 3)] = 1\n",
    "    print(vec_list)\n",
    "\n",
    "    predict = clf.predict([vec_list])\n",
    "    if predict[0] == 0:\n",
    "        print(\"no bought\") \n",
    "    elif predict[0] == 1:\n",
    "        print(\"bought\") \n",
    "predicate('M', 7000, 1)"
   ]
  },
  {
   "cell_type": "markdown",
   "metadata": {},
   "source": [
    "虽然初步完成了feature预测，但是有很大的局限性。在特征的收入部分，只能预测开始设定的1-8k，而且最后的特征向量方法太有问题了。也许扩大数据集会好很多，但是仍然解决不了收入特征的问题。希望老师下次课前可以进行稍稍的讲解。"
   ]
  },
  {
   "cell_type": "markdown",
   "metadata": {},
   "source": []
  }
 ],
 "metadata": {
  "kernelspec": {
   "display_name": "Python 3",
   "language": "python",
   "name": "python3"
  },
  "language_info": {
   "codemirror_mode": {
    "name": "ipython",
    "version": 3
   },
   "file_extension": ".py",
   "mimetype": "text/x-python",
   "name": "python",
   "nbconvert_exporter": "python",
   "pygments_lexer": "ipython3",
   "version": "3.6.5"
  }
 },
 "nbformat": 4,
 "nbformat_minor": 2
}
